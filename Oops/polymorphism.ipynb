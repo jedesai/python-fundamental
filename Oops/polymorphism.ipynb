{
 "cells": [
  {
   "cell_type": "markdown",
   "metadata": {},
   "source": [
    "# Polymorphism\n",
    "- Polymorphism is a core concept in Object-Oriented Programming (OOP) that allows objects of different classes to be treated as objects of a common superclass. It provides a way to perform a single action in different forms. Polymorphism is typically achieved through method overriding and interfaces"
   ]
  },
  {
   "cell_type": "markdown",
   "metadata": {},
   "source": [
    "### Method Overriding :\n",
    "- method overriding allows a child class to provide a specific implementation of a method that is allready defined in its parent class."
   ]
  },
  {
   "cell_type": "code",
   "execution_count": 7,
   "metadata": {},
   "outputs": [
    {
     "name": "stdout",
     "output_type": "stream",
     "text": [
      "woof\n",
      "meow\n",
      "woof\n"
     ]
    }
   ],
   "source": [
    "# Base Class\n",
    "class Animal:\n",
    "    def speak():\n",
    "        return 'sound of the animal'\n",
    "# Derived Class 1\n",
    "class Dog(Animal):\n",
    "    def speak(self):\n",
    "        return 'woof'\n",
    "    \n",
    "# Derived Class 2\n",
    "class Cat(Animal):\n",
    "    def speak(self):\n",
    "        return 'meow'\n",
    "    \n",
    "dog = Dog()\n",
    "cat = Cat()\n",
    "\n",
    "print(dog.speak())\n",
    "print(cat.speak())\n",
    "\n",
    "# - Regular Functions Outside class that demonstrate polymorphism:\n",
    "\n",
    "def animal_speak(animal):   #'animal'is attrubute of class or object of a specific class\n",
    "    print(animal.speak())\n",
    "\n",
    "# calling function\n",
    "animal_speak(dog)"
   ]
  },
  {
   "cell_type": "markdown",
   "metadata": {},
   "source": [
    "- Polymorphism with Function and Method:"
   ]
  },
  {
   "cell_type": "code",
   "execution_count": 8,
   "metadata": {},
   "outputs": [
    {
     "name": "stdout",
     "output_type": "stream",
     "text": [
      "the area is 20\n",
      "the area is 12.56\n"
     ]
    }
   ],
   "source": [
    "# Base class\n",
    "class Shape:\n",
    "    def area(self):\n",
    "        return \"The Area of the figure\"\n",
    "    \n",
    "# Derived Class 1\n",
    "class Rectangle(Shape):\n",
    "    def __init__(self,width,height):\n",
    "        self.width = width\n",
    "        self.height = height\n",
    "\n",
    "    def area(self):\n",
    "        return self.width * self.height\n",
    "    \n",
    "# Derived Class 2\n",
    "class Circle(Shape):\n",
    "    def __init__(self,radius):\n",
    "        self.radius = radius\n",
    "\n",
    "    def area(self):\n",
    "        return 3.14 * self.radius\n",
    "    \n",
    "## Function that demonstrates polymorphism\n",
    "def print_area(shape):\n",
    "    print(f\"the area is {shape.area()}\")\n",
    "\n",
    "rectangle = Rectangle(4,5)\n",
    "circle = Circle(4)\n",
    "\n",
    "print_area(rectangle)\n",
    "print_area(circle)"
   ]
  },
  {
   "cell_type": "markdown",
   "metadata": {},
   "source": [
    "#### Polymorphism with abstract Base Classes (Interface in other language):\n",
    "- Abstract Base Classes(ABCs) are used to define common methods for a group of related objects. \n",
    "- They can enforce that derived classes implement particular methods, promoting consistency across different implementations."
   ]
  },
  {
   "cell_type": "code",
   "execution_count": 9,
   "metadata": {},
   "outputs": [
    {
     "name": "stdout",
     "output_type": "stream",
     "text": [
      "Car Engine Started\n",
      "Motorcycle Engine started\n"
     ]
    }
   ],
   "source": [
    "from abc import ABC, abstractmethod\n",
    "\n",
    "# Define an abstract class\n",
    "class Vehicle(ABC):\n",
    "    @abstractmethod\n",
    "    def start_engine(self):\n",
    "        pass\n",
    "\n",
    "# Derived Class 1\n",
    "class Car(Vehicle):\n",
    "    def start_engine(self):\n",
    "        return \"Car Engine Started\"\n",
    "\n",
    "# Derived Class 2\n",
    "class Motorcycle(Vehicle):\n",
    "    def start_engine(self):\n",
    "        return \"Motorcycle Engine started\"\n",
    "    \n",
    "# Function that demonstrates polymorphism\n",
    "def start_vehicle(Vehicle):\n",
    "    print(Vehicle.start_engine())\n",
    "    \n",
    "# Create an Object of Car and Motorcycle\n",
    "car = Car()\n",
    "bike = Motorcycle()\n",
    "\n",
    "start_vehicle(car)\n",
    "start_vehicle(bike)"
   ]
  },
  {
   "cell_type": "markdown",
   "metadata": {},
   "source": [
    "## Conclusion:\n",
    "- Polymorphism is a powerful features of OOP that allows for flexibility and integration in code design. \n",
    "- It enables a single function to handle objects of different classes, each with its own implementation of a method.\n",
    "- By Understanding and applying polymorphism, you can create more extensible and maintainable object-oriented programs."
   ]
  }
 ],
 "metadata": {
  "kernelspec": {
   "display_name": "Python 3",
   "language": "python",
   "name": "python3"
  },
  "language_info": {
   "codemirror_mode": {
    "name": "ipython",
    "version": 3
   },
   "file_extension": ".py",
   "mimetype": "text/x-python",
   "name": "python",
   "nbconvert_exporter": "python",
   "pygments_lexer": "ipython3",
   "version": "3.12.0"
  }
 },
 "nbformat": 4,
 "nbformat_minor": 2
}
