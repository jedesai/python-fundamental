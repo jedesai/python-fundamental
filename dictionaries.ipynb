{
 "cells": [
  {
   "cell_type": "markdown",
   "metadata": {},
   "source": [
    "## Dictionaries :->\n",
    "- Dictionaries are unordered collections of items. They store data in key-value pairs.\n",
    "- key must be unique and immutable (e.g. strings, numbers or tuples), while value can be of any type."
   ]
  },
  {
   "cell_type": "markdown",
   "metadata": {},
   "source": [
    "- Creating Dictionaries"
   ]
  },
  {
   "cell_type": "code",
   "execution_count": 3,
   "metadata": {},
   "outputs": [
    {
     "name": "stdout",
     "output_type": "stream",
     "text": [
      "{}\n",
      "<class 'dict'>\n"
     ]
    }
   ],
   "source": [
    "# Creating dictionaries\n",
    "empty_dict = {}\n",
    "print(empty_dict)\n",
    "print(type(empty_dict))"
   ]
  },
  {
   "cell_type": "code",
   "execution_count": 4,
   "metadata": {},
   "outputs": [
    {
     "name": "stdout",
     "output_type": "stream",
     "text": [
      "{}\n",
      "<class 'dict'>\n"
     ]
    }
   ],
   "source": [
    "# using classes\n",
    "dict1 = dict()\n",
    "print(dict1)\n",
    "print(type(dict1))"
   ]
  },
  {
   "cell_type": "code",
   "execution_count": 6,
   "metadata": {},
   "outputs": [
    {
     "name": "stdout",
     "output_type": "stream",
     "text": [
      "{'name': 'jeet', 'age': 30, 'sex': 'male', 'grade': 'A'}\n",
      "<class 'dict'>\n"
     ]
    }
   ],
   "source": [
    "student = {\n",
    "    'name': 'jeet',\n",
    "    'age': 30,\n",
    "    'sex': 'male',\n",
    "    'grade': 'A'\n",
    "}\n",
    "\n",
    "print(student)\n",
    "print(type(student))"
   ]
  },
  {
   "cell_type": "markdown",
   "metadata": {},
   "source": [
    "- Accesing elements from dictionaries"
   ]
  },
  {
   "cell_type": "code",
   "execution_count": 8,
   "metadata": {},
   "outputs": [
    {
     "name": "stdout",
     "output_type": "stream",
     "text": [
      "jeet\n",
      "30\n"
     ]
    }
   ],
   "source": [
    "print(student['name'])\n",
    "print(student['age'])"
   ]
  },
  {
   "cell_type": "code",
   "execution_count": 10,
   "metadata": {},
   "outputs": [
    {
     "name": "stdout",
     "output_type": "stream",
     "text": [
      "jeet\n",
      "30\n"
     ]
    }
   ],
   "source": [
    "# Another way of accessing elements from dictionaries\n",
    "print(student.get('name'))\n",
    "print(student.get('age'))"
   ]
  },
  {
   "cell_type": "code",
   "execution_count": 13,
   "metadata": {},
   "outputs": [
    {
     "name": "stdout",
     "output_type": "stream",
     "text": [
      "None\n",
      "Not Available\n"
     ]
    }
   ],
   "source": [
    "# when key is not present, we can give default values.\n",
    "print(student.get('last_name'))      # return None if not present\n",
    "print(student.get('last_name', 'Not Available'))"
   ]
  },
  {
   "cell_type": "markdown",
   "metadata": {},
   "source": [
    "- Modifying Dictionaries elements"
   ]
  },
  {
   "cell_type": "code",
   "execution_count": 19,
   "metadata": {},
   "outputs": [
    {
     "name": "stdout",
     "output_type": "stream",
     "text": [
      "{'name': 'jeet', 'age': 31, 'sex': 'male', 'grade': 'A', 'Country': 'India'}\n"
     ]
    }
   ],
   "source": [
    "# adding and updating \n",
    "\n",
    "student['age'] = 31\n",
    "student['Country'] = 'India'\n",
    "print(student)"
   ]
  },
  {
   "cell_type": "code",
   "execution_count": 20,
   "metadata": {},
   "outputs": [
    {
     "name": "stdout",
     "output_type": "stream",
     "text": [
      "{'name': 'jeet', 'age': 31, 'sex': 'male', 'Country': 'India'}\n"
     ]
    }
   ],
   "source": [
    "# Deleting key-value pair \n",
    "del student['grade']\n",
    "print(student)"
   ]
  },
  {
   "cell_type": "markdown",
   "metadata": {},
   "source": [
    "## Dictionaries Methods:->"
   ]
  },
  {
   "cell_type": "code",
   "execution_count": 21,
   "metadata": {},
   "outputs": [
    {
     "name": "stdout",
     "output_type": "stream",
     "text": [
      "dict_keys(['name', 'age', 'sex', 'Country'])\n",
      "dict_values(['jeet', 31, 'male', 'India'])\n"
     ]
    }
   ],
   "source": [
    "# get all keys\n",
    "keys = student.keys()\n",
    "print(keys)\n",
    "\n",
    "# gett all values\n",
    "values = student.values()\n",
    "print(values)"
   ]
  },
  {
   "cell_type": "code",
   "execution_count": 22,
   "metadata": {},
   "outputs": [
    {
     "name": "stdout",
     "output_type": "stream",
     "text": [
      "dict_items([('name', 'jeet'), ('age', 31), ('sex', 'male'), ('Country', 'India')])\n"
     ]
    }
   ],
   "source": [
    "# get all key-value pairs\n",
    "items = student.items()\n",
    "print(items)"
   ]
  },
  {
   "cell_type": "markdown",
   "metadata": {},
   "source": [
    "## Shallow Copy"
   ]
  },
  {
   "cell_type": "code",
   "execution_count": 24,
   "metadata": {},
   "outputs": [
    {
     "name": "stdout",
     "output_type": "stream",
     "text": [
      "{'name': 'jeet', 'age': 31, 'sex': 'male', 'Country': 'India'}\n",
      "{'name': 'jeet', 'age': 31, 'sex': 'male', 'Country': 'India'}\n"
     ]
    }
   ],
   "source": [
    "student_copy = student\n",
    "print(student)\n",
    "print(student_copy)"
   ]
  },
  {
   "cell_type": "code",
   "execution_count": 25,
   "metadata": {},
   "outputs": [
    {
     "name": "stdout",
     "output_type": "stream",
     "text": [
      "{'name': 'jeetkumar', 'age': 31, 'sex': 'male', 'Country': 'India'}\n",
      "{'name': 'jeetkumar', 'age': 31, 'sex': 'male', 'Country': 'India'}\n"
     ]
    }
   ],
   "source": [
    "student['name'] = 'jeetkumar'\n",
    "print(student)\n",
    "print(student_copy)"
   ]
  },
  {
   "cell_type": "markdown",
   "metadata": {},
   "source": [
    "Note:\n",
    "- above when we try to copy dict and update any one of them, both dict is getting updated. This is big problem which must be avoided."
   ]
  },
  {
   "cell_type": "markdown",
   "metadata": {},
   "source": [
    "we can avoid above problem using below method"
   ]
  },
  {
   "cell_type": "code",
   "execution_count": 26,
   "metadata": {},
   "outputs": [
    {
     "name": "stdout",
     "output_type": "stream",
     "text": [
      "{'name': 'jeetkumar', 'age': 31, 'sex': 'male', 'Country': 'India'}\n",
      "{'name': 'jeetkumar', 'age': 31, 'sex': 'male', 'Country': 'India'}\n"
     ]
    }
   ],
   "source": [
    "student_copy1 = student.copy()    # Shallow copy\n",
    "print(student_copy1)\n",
    "print(student)"
   ]
  },
  {
   "cell_type": "code",
   "execution_count": 27,
   "metadata": {},
   "outputs": [
    {
     "name": "stdout",
     "output_type": "stream",
     "text": [
      "{'name': 'jeet1', 'age': 31, 'sex': 'male', 'Country': 'India'}\n",
      "{'name': 'jeetkumar', 'age': 31, 'sex': 'male', 'Country': 'India'}\n"
     ]
    }
   ],
   "source": [
    "student['name'] = 'jeet1'\n",
    "print(student)\n",
    "print(student_copy1)"
   ]
  },
  {
   "cell_type": "markdown",
   "metadata": {},
   "source": [
    "## Iterating over dictionaries"
   ]
  },
  {
   "cell_type": "code",
   "execution_count": 28,
   "metadata": {},
   "outputs": [
    {
     "name": "stdout",
     "output_type": "stream",
     "text": [
      "name\n",
      "age\n",
      "sex\n",
      "Country\n"
     ]
    }
   ],
   "source": [
    "# iterating keys of dict\n",
    "for keys in student.keys():\n",
    "    print(keys)"
   ]
  },
  {
   "cell_type": "code",
   "execution_count": 29,
   "metadata": {},
   "outputs": [
    {
     "name": "stdout",
     "output_type": "stream",
     "text": [
      "jeet1\n",
      "31\n",
      "male\n",
      "India\n"
     ]
    }
   ],
   "source": [
    "# iterating values of dict\n",
    "for values in student.values():\n",
    "    print(values)"
   ]
  },
  {
   "cell_type": "code",
   "execution_count": 32,
   "metadata": {},
   "outputs": [
    {
     "name": "stdout",
     "output_type": "stream",
     "text": [
      "('name', 'jeet1')\n",
      "('age', 31)\n",
      "('sex', 'male')\n",
      "('Country', 'India')\n"
     ]
    }
   ],
   "source": [
    "# iterating over items/key-value pair of dict\n",
    "for items in student.items():\n",
    "    print(items)\n"
   ]
  },
  {
   "cell_type": "code",
   "execution_count": 33,
   "metadata": {},
   "outputs": [
    {
     "name": "stdout",
     "output_type": "stream",
     "text": [
      "name : jeet1\n",
      "age : 31\n",
      "sex : male\n",
      "Country : India\n"
     ]
    }
   ],
   "source": [
    "# another way\n",
    "for keys, values in student.items():\n",
    "    print(f'{keys} : {values}')"
   ]
  },
  {
   "cell_type": "markdown",
   "metadata": {},
   "source": [
    "# Nested Dictionaries"
   ]
  },
  {
   "cell_type": "code",
   "execution_count": 34,
   "metadata": {},
   "outputs": [
    {
     "name": "stdout",
     "output_type": "stream",
     "text": [
      "{'student1': {'name': 'jeet', 'age': 30}, 'student2': {'name': 'pal', 'age': 27}}\n"
     ]
    }
   ],
   "source": [
    "students = {\n",
    "    'student1': {'name': 'jeet', 'age': 30},\n",
    "    'student2': {'name': 'pal', 'age': 27}\n",
    "}\n",
    "print(students)"
   ]
  },
  {
   "cell_type": "markdown",
   "metadata": {},
   "source": [
    "Accesing nested elements from dict"
   ]
  },
  {
   "cell_type": "code",
   "execution_count": 35,
   "metadata": {},
   "outputs": [
    {
     "name": "stdout",
     "output_type": "stream",
     "text": [
      "jeet\n",
      "27\n"
     ]
    }
   ],
   "source": [
    "print(students['student1']['name'])\n",
    "print(students['student2']['age'])"
   ]
  },
  {
   "cell_type": "markdown",
   "metadata": {},
   "source": [
    "iterating over nested dict"
   ]
  },
  {
   "cell_type": "code",
   "execution_count": 36,
   "metadata": {},
   "outputs": [
    {
     "name": "stdout",
     "output_type": "stream",
     "text": [
      "{'student1': {'name': 'jeet', 'age': 30}, 'student2': {'name': 'pal', 'age': 27}}\n"
     ]
    }
   ],
   "source": [
    "print(students)"
   ]
  },
  {
   "cell_type": "code",
   "execution_count": 38,
   "metadata": {},
   "outputs": [
    {
     "name": "stdout",
     "output_type": "stream",
     "text": [
      "student1 : {'name': 'jeet', 'age': 30}\n",
      "name : jeet\n",
      "age : 30\n",
      "student2 : {'name': 'pal', 'age': 27}\n",
      "name : pal\n",
      "age : 27\n"
     ]
    }
   ],
   "source": [
    "for student_id, student_info in students.items():\n",
    "    print(f'{student_id} : {student_info}')\n",
    "    for key, value in student_info.items():\n",
    "        print(f'{key} : {value}')"
   ]
  },
  {
   "cell_type": "markdown",
   "metadata": {},
   "source": [
    "## Dictionary Comprehension"
   ]
  },
  {
   "cell_type": "markdown",
   "metadata": {},
   "source": [
    "basic dictionaries comprehension"
   ]
  },
  {
   "cell_type": "code",
   "execution_count": 40,
   "metadata": {},
   "outputs": [
    {
     "name": "stdout",
     "output_type": "stream",
     "text": [
      "{0: 0, 1: 1, 2: 4, 3: 9, 4: 16}\n"
     ]
    }
   ],
   "source": [
    "# finding square values in key value pairs\n",
    "squares_dict = {i:i**2 for i in range(5)}\n",
    "print(squares_dict)"
   ]
  },
  {
   "cell_type": "markdown",
   "metadata": {},
   "source": [
    "conditional dictionaries comprehension"
   ]
  },
  {
   "cell_type": "code",
   "execution_count": 42,
   "metadata": {},
   "outputs": [
    {
     "name": "stdout",
     "output_type": "stream",
     "text": [
      "{0: 0, 2: 4, 4: 16, 6: 36, 8: 64, 10: 100}\n"
     ]
    }
   ],
   "source": [
    "# finding squares of only even numbers\n",
    "even_square_dict = {i:i**2 for i in range(11) if i%2 == 0}\n",
    "print(even_square_dict)"
   ]
  },
  {
   "cell_type": "markdown",
   "metadata": {},
   "source": [
    "## Practical Examples\n",
    "- Use dictionaries to count frequency of elements in list"
   ]
  },
  {
   "cell_type": "code",
   "execution_count": 45,
   "metadata": {},
   "outputs": [
    {
     "name": "stdout",
     "output_type": "stream",
     "text": [
      "{1: 1, 2: 2, 3: 3, 4: 4}\n"
     ]
    }
   ],
   "source": [
    "numbers = [1,2,2,3,3,3,4,4,4,4]\n",
    "frequency = {}\n",
    "for number in numbers:\n",
    "    if number in frequency:\n",
    "        frequency[number] += 1\n",
    "    else:\n",
    "        frequency[number] = 1\n",
    "print(frequency)"
   ]
  },
  {
   "cell_type": "markdown",
   "metadata": {},
   "source": [
    "- Merge 2 dictionaries into one"
   ]
  },
  {
   "cell_type": "code",
   "execution_count": 46,
   "metadata": {},
   "outputs": [
    {
     "name": "stdout",
     "output_type": "stream",
     "text": [
      "{'a': 1, 'b': 2, 'c': 3, 'd': 4}\n"
     ]
    }
   ],
   "source": [
    "dict1 = {'a': 1, 'b': 2}\n",
    "dict2 = {'c': 3, 'd': 4}\n",
    "merged_dict = {**dict1, **dict2}\n",
    "print(merged_dict)"
   ]
  }
 ],
 "metadata": {
  "kernelspec": {
   "display_name": "Python 3",
   "language": "python",
   "name": "python3"
  },
  "language_info": {
   "codemirror_mode": {
    "name": "ipython",
    "version": 3
   },
   "file_extension": ".py",
   "mimetype": "text/x-python",
   "name": "python",
   "nbconvert_exporter": "python",
   "pygments_lexer": "ipython3",
   "version": "3.12.0"
  }
 },
 "nbformat": 4,
 "nbformat_minor": 2
}
