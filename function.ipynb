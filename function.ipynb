{
 "cells": [
  {
   "cell_type": "markdown",
   "metadata": {},
   "source": [
    "# Function \n",
    "- A function is block of code that performs specific task. \n",
    "- functions help in organizing code, reusing code and improving redability."
   ]
  },
  {
   "cell_type": "code",
   "execution_count": 2,
   "metadata": {},
   "outputs": [],
   "source": [
    "## syntax\n",
    "def function_name(parameters):\n",
    "    \"\"\"Docstring\"\"\"               # this tell what function will do.\n",
    "    # Function body\n",
    "    return expression"
   ]
  },
  {
   "cell_type": "code",
   "execution_count": 6,
   "metadata": {},
   "outputs": [],
   "source": [
    "def odd_or_even(num):\n",
    "    \"\"\"This function finds number is odd or even.\"\"\"\n",
    "    if num % 2 == 0:\n",
    "        print(f'{num} is even')\n",
    "    else:\n",
    "        print(f'{num} is odd')"
   ]
  },
  {
   "cell_type": "code",
   "execution_count": 8,
   "metadata": {},
   "outputs": [
    {
     "name": "stdout",
     "output_type": "stream",
     "text": [
      "34 is even\n",
      "21 is odd\n"
     ]
    }
   ],
   "source": [
    "# calling function\n",
    "odd_or_even(34)\n",
    "odd_or_even(21)"
   ]
  },
  {
   "cell_type": "markdown",
   "metadata": {},
   "source": [
    "- Function with multiple parameter"
   ]
  },
  {
   "cell_type": "code",
   "execution_count": 10,
   "metadata": {},
   "outputs": [
    {
     "name": "stdout",
     "output_type": "stream",
     "text": [
      "10\n"
     ]
    }
   ],
   "source": [
    "def add(a,b):\n",
    "    \"\"\" this will add two numbers\"\"\"\n",
    "    return a + b\n",
    "\n",
    "result = add(4,6)\n",
    "print(result)"
   ]
  },
  {
   "cell_type": "markdown",
   "metadata": {},
   "source": [
    "# Default parameter"
   ]
  },
  {
   "cell_type": "code",
   "execution_count": 14,
   "metadata": {},
   "outputs": [
    {
     "name": "stdout",
     "output_type": "stream",
     "text": [
      "Hello Guest, Welcome to the paradise \n",
      "Hello Jeet, Welcome to the paradise \n"
     ]
    }
   ],
   "source": [
    "def greet(name='Guest'):\n",
    "    \"\"\"This will greet users\"\"\"\n",
    "    print(f'Hello {name}, Welcome to the paradise ')\n",
    "\n",
    "greet()        # taking default parameter when we don't pass anything.\n",
    "greet('Jeet')"
   ]
  },
  {
   "cell_type": "markdown",
   "metadata": {},
   "source": [
    "## Variable Length Arguments\n",
    "- positional arguments\n",
    "- keywords arguments"
   ]
  },
  {
   "cell_type": "markdown",
   "metadata": {},
   "source": [
    "positional arguments: can have many parameters"
   ]
  },
  {
   "cell_type": "code",
   "execution_count": 15,
   "metadata": {},
   "outputs": [],
   "source": [
    "def print_numbers(*args):          # instead of args, we can use any name\n",
    "    for number in args:\n",
    "        print(number)"
   ]
  },
  {
   "cell_type": "code",
   "execution_count": 16,
   "metadata": {},
   "outputs": [
    {
     "name": "stdout",
     "output_type": "stream",
     "text": [
      "1\n",
      "2\n",
      "3\n",
      "4\n",
      "5\n",
      "6\n",
      "jeet\n",
      "True\n",
      "3.14\n"
     ]
    }
   ],
   "source": [
    "print_numbers(1,2,3,4,5,6,'jeet',True, 3.14)"
   ]
  },
  {
   "cell_type": "markdown",
   "metadata": {},
   "source": [
    "Keywords arguments: parameters will be in the form of key-value pair"
   ]
  },
  {
   "cell_type": "code",
   "execution_count": 17,
   "metadata": {},
   "outputs": [],
   "source": [
    "def print_details(**kwargs):    # instead of kwargs we can give any names\n",
    "    for key,value in kwargs.items():\n",
    "        print(f'{key} : {value}')"
   ]
  },
  {
   "cell_type": "code",
   "execution_count": 18,
   "metadata": {},
   "outputs": [
    {
     "name": "stdout",
     "output_type": "stream",
     "text": [
      "name : jeet\n",
      "age : 30\n",
      "country : India\n"
     ]
    }
   ],
   "source": [
    "# calling function\n",
    "print_details(name='jeet', age=30, country='India')"
   ]
  },
  {
   "cell_type": "markdown",
   "metadata": {},
   "source": [
    "- combining postional and keyward arguments in one function"
   ]
  },
  {
   "cell_type": "code",
   "execution_count": 19,
   "metadata": {},
   "outputs": [],
   "source": [
    "def print_mix_details(*args, **kwargs):\n",
    "    for val in args:\n",
    "        print(f'positional arguments: {val}')\n",
    "    for key,value in kwargs.items():\n",
    "        print(f'{key} : {value}') "
   ]
  },
  {
   "cell_type": "code",
   "execution_count": 21,
   "metadata": {},
   "outputs": [
    {
     "name": "stdout",
     "output_type": "stream",
     "text": [
      "positional arguments: 1\n",
      "positional arguments: 2\n",
      "positional arguments: 3\n",
      "positional arguments: 4\n",
      "positional arguments: 5\n",
      "name : jeet\n",
      "age : 30\n",
      "country : India\n"
     ]
    }
   ],
   "source": [
    "print_mix_details(1,2,3,4,5,name='jeet', age=30, country='India')\n",
    "# Above, we have to pass postional arg first and then kewyword args"
   ]
  },
  {
   "cell_type": "markdown",
   "metadata": {},
   "source": [
    "## return statement"
   ]
  },
  {
   "cell_type": "markdown",
   "metadata": {},
   "source": [
    "- Note: In pyhton, we can return multiple parameters"
   ]
  },
  {
   "cell_type": "code",
   "execution_count": 22,
   "metadata": {},
   "outputs": [
    {
     "data": {
      "text/plain": [
       "(12, 3, 4)"
      ]
     },
     "execution_count": 22,
     "metadata": {},
     "output_type": "execute_result"
    }
   ],
   "source": [
    "def multiply(a,b):\n",
    "    return a*b, a, b\n",
    "\n",
    "multiply(3,4)"
   ]
  }
 ],
 "metadata": {
  "kernelspec": {
   "display_name": "Python 3",
   "language": "python",
   "name": "python3"
  },
  "language_info": {
   "codemirror_mode": {
    "name": "ipython",
    "version": 3
   },
   "file_extension": ".py",
   "mimetype": "text/x-python",
   "name": "python",
   "nbconvert_exporter": "python",
   "pygments_lexer": "ipython3",
   "version": "3.12.0"
  }
 },
 "nbformat": 4,
 "nbformat_minor": 2
}
