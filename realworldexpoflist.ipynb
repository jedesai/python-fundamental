{
 "cells": [
  {
   "cell_type": "markdown",
   "metadata": {},
   "source": [
    "## Todo List\n",
    "- creating todo list"
   ]
  },
  {
   "cell_type": "code",
   "execution_count": 2,
   "metadata": {},
   "outputs": [
    {
     "name": "stdout",
     "output_type": "stream",
     "text": [
      "Dont forget to pay utility bills\n",
      "To do list remaining\n",
      "-buy groceries\n",
      "-pay bills\n",
      "-schedule meeting\n",
      "-Go for a run\n"
     ]
    }
   ],
   "source": [
    "to_do_list = ['buy groceries', 'clean the house', 'pay bills']\n",
    "\n",
    "# adding task\n",
    "to_do_list.append('schedule meeting')\n",
    "to_do_list.append('Go for a run')\n",
    "\n",
    "# removing completed task\n",
    "to_do_list.remove('clean the house')\n",
    "\n",
    "# checking if task is in the list\n",
    "if 'pay bills' in to_do_list:\n",
    "    print('Dont forget to pay utility bills')\n",
    "\n",
    "print('To do list remaining')\n",
    "\n",
    "for task in to_do_list:\n",
    "    print(f'-{task}')"
   ]
  },
  {
   "cell_type": "markdown",
   "metadata": {},
   "source": [
    "## Organizing Students grades"
   ]
  },
  {
   "cell_type": "code",
   "execution_count": 3,
   "metadata": {},
   "outputs": [
    {
     "name": "stdout",
     "output_type": "stream",
     "text": [
      "Average grade: 88.00\n",
      "Higest grade :95\n",
      "Lowest grade :78\n"
     ]
    }
   ],
   "source": [
    "grades = [85,92,78,90,88]\n",
    "\n",
    "# adding new grades\n",
    "grades.append(95)\n",
    "\n",
    "# calculating average grades\n",
    "average_grades = sum(grades)/ len(grades)\n",
    "print(f'Average grade: {average_grades:.2f}')\n",
    "\n",
    "# finding highest and lowest grades\n",
    "highest_grade = max(grades)\n",
    "lowest_grade = min(grades)\n",
    "\n",
    "print(f'Higest grade :{highest_grade}')\n",
    "print(f'Lowest grade :{lowest_grade}')"
   ]
  },
  {
   "cell_type": "markdown",
   "metadata": {},
   "source": [
    "## Inventory management"
   ]
  },
  {
   "cell_type": "code",
   "execution_count": 5,
   "metadata": {},
   "outputs": [
    {
     "name": "stdout",
     "output_type": "stream",
     "text": [
      "oranges are in stock\n",
      "- apples\n",
      "- oranges\n",
      "- guava\n",
      "- kiwi\n"
     ]
    }
   ],
   "source": [
    "inventory = ['apples', 'bananas', 'oranges', 'guava']\n",
    "\n",
    "# adding new item\n",
    "inventory.append('kiwi')\n",
    "\n",
    "# removing which is out of stock\n",
    "inventory.remove('bananas')\n",
    "\n",
    "# Checking if item is in stock\n",
    "item = 'oranges'\n",
    "if item in inventory:\n",
    "    print(f'{item} are in stock')\n",
    "else:\n",
    "    print(f'{item} are out of stock')\n",
    "\n",
    "# printing invetories\n",
    "\n",
    "for item in inventory:\n",
    "    print(f'- {item}')"
   ]
  },
  {
   "cell_type": "markdown",
   "metadata": {},
   "source": [
    "## User feedback"
   ]
  },
  {
   "cell_type": "code",
   "execution_count": 6,
   "metadata": {},
   "outputs": [
    {
     "name": "stdout",
     "output_type": "stream",
     "text": [
      "Positive Feedback Count: 2\n",
      "User Feedback:\n",
      "- Great service!\n",
      "- Very satisfied\n",
      "- Could be better\n",
      "- Excellent experience\n",
      "- Not happy with the service\n"
     ]
    }
   ],
   "source": [
    "# Collecting user feedback\n",
    "feedback = [\"Great service!\", \"Very satisfied\", \"Could be better\", \"Excellent experience\"]\n",
    "\n",
    "# Adding new feedback\n",
    "feedback.append(\"Not happy with the service\")\n",
    "\n",
    "# Counting specific feedback\n",
    "positive_feedback_count = sum(1 for comment in feedback if \"great\" in comment.lower() or \"excellent\" in comment.lower())\n",
    "print(f\"Positive Feedback Count: {positive_feedback_count}\")\n",
    "\n",
    "# Printing all feedback\n",
    "print(\"User Feedback:\")\n",
    "for comment in feedback:\n",
    "    print(f\"- {comment}\")"
   ]
  }
 ],
 "metadata": {
  "kernelspec": {
   "display_name": "Python 3",
   "language": "python",
   "name": "python3"
  },
  "language_info": {
   "codemirror_mode": {
    "name": "ipython",
    "version": 3
   },
   "file_extension": ".py",
   "mimetype": "text/x-python",
   "name": "python",
   "nbconvert_exporter": "python",
   "pygments_lexer": "ipython3",
   "version": "3.12.0"
  }
 },
 "nbformat": 4,
 "nbformat_minor": 2
}
